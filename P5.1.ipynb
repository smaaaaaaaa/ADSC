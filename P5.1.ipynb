{
    "cells": [
        {
            "cell_type": "markdown",
            "metadata": {
                "collapsed": true
            },
            "source": "# Introduction\n\nThis project serves to recommend neighborhoods to live in for people who are moving to new cities from their distance to necessities like airports, stores, transportation, and more. It will help them make efficient decisions as they choose a neighborhood in Scarborough, Toranto. The project provides an opportunity for comparative analysis between neighborhoods in key factors such as median house price, school ratings, connectivity, crime rates, and other resources."
        },
        {
            "cell_type": "markdown",
            "metadata": {},
            "source": "# Data\n\nScarborough dataset consists of latitude, longitude, and zip codes: https://en.wikipedia.org/wiki/List_of_postal_codes_of_Canada:_M\n\nFoursquare locational information provides us with data about venues in neighborhoods of a respective borough like venue names, locations, and menus. For each venue, we would have information on the neighborhood, neighborhood latitude, neighborhood longitude, venue, venue latitude, venue longitude, and venue Category"
        },
        {
            "cell_type": "markdown",
            "metadata": {},
            "source": "# Methodology \n\nI segmented neighborhoods and grouped them into clusters to find similar neighborhoods utilizing a k-means clustering algorithm. "
        },
        {
            "cell_type": "markdown",
            "metadata": {},
            "source": "# Results\n\nScarborough is a multi-cultural diaspora as immigrants from all over the world come settle there. Immigration is on the rise, and there are resources for people of many different religions and traditions. \n"
        },
        {
            "cell_type": "markdown",
            "metadata": {},
            "source": "# Discussion \n\nThis project serves to recommend neighborhoods to live in for people who are moving to new cities based on factors like school ratings, crime rates, and distance to resources like airports, stores, transportation, and more."
        },
        {
            "cell_type": "markdown",
            "metadata": {},
            "source": "# Conclusion \n\nUtilizing a k-means cluster algorithm, I separated the neighborhood into ten clusters based on the latitude and longitude."
        }
    ],
    "metadata": {
        "kernelspec": {
            "display_name": "Python 3.7",
            "language": "python",
            "name": "python3"
        },
        "language_info": {
            "codemirror_mode": {
                "name": "ipython",
                "version": 3
            },
            "file_extension": ".py",
            "mimetype": "text/x-python",
            "name": "python",
            "nbconvert_exporter": "python",
            "pygments_lexer": "ipython3",
            "version": "3.7.9"
        }
    },
    "nbformat": 4,
    "nbformat_minor": 1
}