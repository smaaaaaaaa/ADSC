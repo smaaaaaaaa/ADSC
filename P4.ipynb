{
    "cells": [
        {
            "cell_type": "markdown",
            "metadata": {
                "collapsed": true
            },
            "source": "#Introduction"
        },
        {
            "cell_type": "markdown",
            "metadata": {},
            "source": "This project serves to recommend neighborhoods to live in for people who are moving to new cities from their distance to necessities like airports, stores, transportation, and more. It will help them make efficient decisions as they choose a neighborhood in Scarborough, Toranto. The project provides an opportunity for comparative analysis between neighborhoods in key factors such as median house price, school ratings, connectivity, crime rates, and other resources. "
        }
    ],
    "metadata": {
        "kernelspec": {
            "display_name": "Python 3.7",
            "language": "python",
            "name": "python3"
        },
        "language_info": {
            "codemirror_mode": {
                "name": "ipython",
                "version": 3
            },
            "file_extension": ".py",
            "mimetype": "text/x-python",
            "name": "python",
            "nbconvert_exporter": "python",
            "pygments_lexer": "ipython3",
            "version": "3.7.9"
        }
    },
    "nbformat": 4,
    "nbformat_minor": 1
}