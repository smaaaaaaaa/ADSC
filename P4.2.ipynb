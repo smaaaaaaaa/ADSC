{
    "cells": [
        {
            "cell_type": "markdown",
            "metadata": {
                "collapsed": true
            },
            "source": "#Data "
        },
        {
            "cell_type": "markdown",
            "metadata": {},
            "source": "Scarborough dataset consists of latitude, longitude, and zip codes: https://en.wikipedia.org/wiki/List_of_postal_codes_of_Canada:_M\n\nFoursquare locational information provides us with data about venues in neighborhoods of a respective borough like venue names, locations, and menus. For each venue, we would have information on the neighborhood, neighborhood latitude, neighborhood longitude, venue, venue latitude, venue longitude, and venue Category"
        }
    ],
    "metadata": {
        "kernelspec": {
            "display_name": "Python 3.7",
            "language": "python",
            "name": "python3"
        },
        "language_info": {
            "codemirror_mode": {
                "name": "ipython",
                "version": 3
            },
            "file_extension": ".py",
            "mimetype": "text/x-python",
            "name": "python",
            "nbconvert_exporter": "python",
            "pygments_lexer": "ipython3",
            "version": "3.7.9"
        }
    },
    "nbformat": 4,
    "nbformat_minor": 1
}